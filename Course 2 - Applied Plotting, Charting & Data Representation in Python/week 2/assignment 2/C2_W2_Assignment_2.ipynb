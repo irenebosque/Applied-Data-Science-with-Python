{
  "nbformat": 4,
  "nbformat_minor": 0,
  "metadata": {
    "colab": {
      "name": "C2-W2 Assignment 2.ipynb",
      "provenance": []
    },
    "kernelspec": {
      "name": "python3",
      "display_name": "Python 3"
    },
    "language_info": {
      "name": "python"
    }
  },
  "cells": [
    {
      "cell_type": "code",
      "execution_count": 122,
      "metadata": {
        "id": "fd1dDBRJlPla"
      },
      "outputs": [],
      "source": [
        "import pandas as pd\n",
        "import numpy as np"
      ]
    },
    {
      "cell_type": "markdown",
      "source": [
        "The following variables are provided to you:\n",
        "- **id** : station identification code\n",
        "- **date** : date in YYYY-MM-DD format (e.g. 2012-01-24 = January 24, 2012)\n",
        "- **element** : indicator of element type\n",
        "  - TMAX : Maximum temperature (tenths of degrees C)\n",
        "  - TMIN : Minimum temperature (tenths of degrees C)\n",
        "- **value** : data value for element (tenths of degrees C)"
      ],
      "metadata": {
        "id": "kvUMOYpCnuTH"
      }
    },
    {
      "cell_type": "code",
      "source": [
        "df = pd.read_csv('fb441e62df2d58994928907a91895ec62c2c42e6cd075c2700843b89.csv')"
      ],
      "metadata": {
        "id": "qIwjYDaSnkSt"
      },
      "execution_count": 123,
      "outputs": []
    },
    {
      "cell_type": "markdown",
      "source": [
        "Read the documentation and familiarize yourself with the dataset, then write some python code which returns a line graph of the record high and record low temperatures by day of the year over the period 2005-2014. The area between the record high and record low temperatures for each day should be shaded."
      ],
      "metadata": {
        "id": "6f-1ck9co7bG"
      }
    },
    {
      "cell_type": "code",
      "source": [
        "df2015 = df[df['Date'] > '2015']\n",
        "df2015.head()"
      ],
      "metadata": {
        "colab": {
          "base_uri": "https://localhost:8080/",
          "height": 204
        },
        "id": "WALav3tHu_8k",
        "outputId": "166342af-cdef-4dad-fe8e-76243171fc6b"
      },
      "execution_count": 124,
      "outputs": [
        {
          "output_type": "execute_result",
          "data": {
            "text/plain": [
              "             ID        Date Element  Data_Value\n",
              "19  USC00205563  2015-01-03    TMIN         -39\n",
              "30  USC00203712  2015-03-17    TMAX         189\n",
              "34  USC00200032  2015-06-06    TMIN         128\n",
              "46  USW00014833  2015-08-30    TMIN         178\n",
              "50  USC00202308  2015-08-30    TMIN         156"
            ],
            "text/html": [
              "\n",
              "  <div id=\"df-d47b7f4b-dee8-44ea-9392-be0c35ab5c8c\">\n",
              "    <div class=\"colab-df-container\">\n",
              "      <div>\n",
              "<style scoped>\n",
              "    .dataframe tbody tr th:only-of-type {\n",
              "        vertical-align: middle;\n",
              "    }\n",
              "\n",
              "    .dataframe tbody tr th {\n",
              "        vertical-align: top;\n",
              "    }\n",
              "\n",
              "    .dataframe thead th {\n",
              "        text-align: right;\n",
              "    }\n",
              "</style>\n",
              "<table border=\"1\" class=\"dataframe\">\n",
              "  <thead>\n",
              "    <tr style=\"text-align: right;\">\n",
              "      <th></th>\n",
              "      <th>ID</th>\n",
              "      <th>Date</th>\n",
              "      <th>Element</th>\n",
              "      <th>Data_Value</th>\n",
              "    </tr>\n",
              "  </thead>\n",
              "  <tbody>\n",
              "    <tr>\n",
              "      <th>19</th>\n",
              "      <td>USC00205563</td>\n",
              "      <td>2015-01-03</td>\n",
              "      <td>TMIN</td>\n",
              "      <td>-39</td>\n",
              "    </tr>\n",
              "    <tr>\n",
              "      <th>30</th>\n",
              "      <td>USC00203712</td>\n",
              "      <td>2015-03-17</td>\n",
              "      <td>TMAX</td>\n",
              "      <td>189</td>\n",
              "    </tr>\n",
              "    <tr>\n",
              "      <th>34</th>\n",
              "      <td>USC00200032</td>\n",
              "      <td>2015-06-06</td>\n",
              "      <td>TMIN</td>\n",
              "      <td>128</td>\n",
              "    </tr>\n",
              "    <tr>\n",
              "      <th>46</th>\n",
              "      <td>USW00014833</td>\n",
              "      <td>2015-08-30</td>\n",
              "      <td>TMIN</td>\n",
              "      <td>178</td>\n",
              "    </tr>\n",
              "    <tr>\n",
              "      <th>50</th>\n",
              "      <td>USC00202308</td>\n",
              "      <td>2015-08-30</td>\n",
              "      <td>TMIN</td>\n",
              "      <td>156</td>\n",
              "    </tr>\n",
              "  </tbody>\n",
              "</table>\n",
              "</div>\n",
              "      <button class=\"colab-df-convert\" onclick=\"convertToInteractive('df-d47b7f4b-dee8-44ea-9392-be0c35ab5c8c')\"\n",
              "              title=\"Convert this dataframe to an interactive table.\"\n",
              "              style=\"display:none;\">\n",
              "        \n",
              "  <svg xmlns=\"http://www.w3.org/2000/svg\" height=\"24px\"viewBox=\"0 0 24 24\"\n",
              "       width=\"24px\">\n",
              "    <path d=\"M0 0h24v24H0V0z\" fill=\"none\"/>\n",
              "    <path d=\"M18.56 5.44l.94 2.06.94-2.06 2.06-.94-2.06-.94-.94-2.06-.94 2.06-2.06.94zm-11 1L8.5 8.5l.94-2.06 2.06-.94-2.06-.94L8.5 2.5l-.94 2.06-2.06.94zm10 10l.94 2.06.94-2.06 2.06-.94-2.06-.94-.94-2.06-.94 2.06-2.06.94z\"/><path d=\"M17.41 7.96l-1.37-1.37c-.4-.4-.92-.59-1.43-.59-.52 0-1.04.2-1.43.59L10.3 9.45l-7.72 7.72c-.78.78-.78 2.05 0 2.83L4 21.41c.39.39.9.59 1.41.59.51 0 1.02-.2 1.41-.59l7.78-7.78 2.81-2.81c.8-.78.8-2.07 0-2.86zM5.41 20L4 18.59l7.72-7.72 1.47 1.35L5.41 20z\"/>\n",
              "  </svg>\n",
              "      </button>\n",
              "      \n",
              "  <style>\n",
              "    .colab-df-container {\n",
              "      display:flex;\n",
              "      flex-wrap:wrap;\n",
              "      gap: 12px;\n",
              "    }\n",
              "\n",
              "    .colab-df-convert {\n",
              "      background-color: #E8F0FE;\n",
              "      border: none;\n",
              "      border-radius: 50%;\n",
              "      cursor: pointer;\n",
              "      display: none;\n",
              "      fill: #1967D2;\n",
              "      height: 32px;\n",
              "      padding: 0 0 0 0;\n",
              "      width: 32px;\n",
              "    }\n",
              "\n",
              "    .colab-df-convert:hover {\n",
              "      background-color: #E2EBFA;\n",
              "      box-shadow: 0px 1px 2px rgba(60, 64, 67, 0.3), 0px 1px 3px 1px rgba(60, 64, 67, 0.15);\n",
              "      fill: #174EA6;\n",
              "    }\n",
              "\n",
              "    [theme=dark] .colab-df-convert {\n",
              "      background-color: #3B4455;\n",
              "      fill: #D2E3FC;\n",
              "    }\n",
              "\n",
              "    [theme=dark] .colab-df-convert:hover {\n",
              "      background-color: #434B5C;\n",
              "      box-shadow: 0px 1px 3px 1px rgba(0, 0, 0, 0.15);\n",
              "      filter: drop-shadow(0px 1px 2px rgba(0, 0, 0, 0.3));\n",
              "      fill: #FFFFFF;\n",
              "    }\n",
              "  </style>\n",
              "\n",
              "      <script>\n",
              "        const buttonEl =\n",
              "          document.querySelector('#df-d47b7f4b-dee8-44ea-9392-be0c35ab5c8c button.colab-df-convert');\n",
              "        buttonEl.style.display =\n",
              "          google.colab.kernel.accessAllowed ? 'block' : 'none';\n",
              "\n",
              "        async function convertToInteractive(key) {\n",
              "          const element = document.querySelector('#df-d47b7f4b-dee8-44ea-9392-be0c35ab5c8c');\n",
              "          const dataTable =\n",
              "            await google.colab.kernel.invokeFunction('convertToInteractive',\n",
              "                                                     [key], {});\n",
              "          if (!dataTable) return;\n",
              "\n",
              "          const docLinkHtml = 'Like what you see? Visit the ' +\n",
              "            '<a target=\"_blank\" href=https://colab.research.google.com/notebooks/data_table.ipynb>data table notebook</a>'\n",
              "            + ' to learn more about interactive tables.';\n",
              "          element.innerHTML = '';\n",
              "          dataTable['output_type'] = 'display_data';\n",
              "          await google.colab.output.renderOutput(dataTable, element);\n",
              "          const docLink = document.createElement('div');\n",
              "          docLink.innerHTML = docLinkHtml;\n",
              "          element.appendChild(docLink);\n",
              "        }\n",
              "      </script>\n",
              "    </div>\n",
              "  </div>\n",
              "  "
            ]
          },
          "metadata": {},
          "execution_count": 124
        }
      ]
    },
    {
      "cell_type": "code",
      "source": [
        "df = df[df['Date'] < '2015']\n",
        "df.head()"
      ],
      "metadata": {
        "colab": {
          "base_uri": "https://localhost:8080/",
          "height": 204
        },
        "id": "bTE27xPKVl9t",
        "outputId": "08f6763e-390e-4f78-86b9-fd5c21b6a66f"
      },
      "execution_count": 125,
      "outputs": [
        {
          "output_type": "execute_result",
          "data": {
            "text/plain": [
              "            ID        Date Element  Data_Value\n",
              "0  USW00094889  2014-11-12    TMAX          22\n",
              "1  USC00208972  2009-04-29    TMIN          56\n",
              "2  USC00200032  2008-05-26    TMAX         278\n",
              "3  USC00205563  2005-11-11    TMAX         139\n",
              "4  USC00200230  2014-02-27    TMAX        -106"
            ],
            "text/html": [
              "\n",
              "  <div id=\"df-25664698-d225-4a0c-a311-bdc419e4598d\">\n",
              "    <div class=\"colab-df-container\">\n",
              "      <div>\n",
              "<style scoped>\n",
              "    .dataframe tbody tr th:only-of-type {\n",
              "        vertical-align: middle;\n",
              "    }\n",
              "\n",
              "    .dataframe tbody tr th {\n",
              "        vertical-align: top;\n",
              "    }\n",
              "\n",
              "    .dataframe thead th {\n",
              "        text-align: right;\n",
              "    }\n",
              "</style>\n",
              "<table border=\"1\" class=\"dataframe\">\n",
              "  <thead>\n",
              "    <tr style=\"text-align: right;\">\n",
              "      <th></th>\n",
              "      <th>ID</th>\n",
              "      <th>Date</th>\n",
              "      <th>Element</th>\n",
              "      <th>Data_Value</th>\n",
              "    </tr>\n",
              "  </thead>\n",
              "  <tbody>\n",
              "    <tr>\n",
              "      <th>0</th>\n",
              "      <td>USW00094889</td>\n",
              "      <td>2014-11-12</td>\n",
              "      <td>TMAX</td>\n",
              "      <td>22</td>\n",
              "    </tr>\n",
              "    <tr>\n",
              "      <th>1</th>\n",
              "      <td>USC00208972</td>\n",
              "      <td>2009-04-29</td>\n",
              "      <td>TMIN</td>\n",
              "      <td>56</td>\n",
              "    </tr>\n",
              "    <tr>\n",
              "      <th>2</th>\n",
              "      <td>USC00200032</td>\n",
              "      <td>2008-05-26</td>\n",
              "      <td>TMAX</td>\n",
              "      <td>278</td>\n",
              "    </tr>\n",
              "    <tr>\n",
              "      <th>3</th>\n",
              "      <td>USC00205563</td>\n",
              "      <td>2005-11-11</td>\n",
              "      <td>TMAX</td>\n",
              "      <td>139</td>\n",
              "    </tr>\n",
              "    <tr>\n",
              "      <th>4</th>\n",
              "      <td>USC00200230</td>\n",
              "      <td>2014-02-27</td>\n",
              "      <td>TMAX</td>\n",
              "      <td>-106</td>\n",
              "    </tr>\n",
              "  </tbody>\n",
              "</table>\n",
              "</div>\n",
              "      <button class=\"colab-df-convert\" onclick=\"convertToInteractive('df-25664698-d225-4a0c-a311-bdc419e4598d')\"\n",
              "              title=\"Convert this dataframe to an interactive table.\"\n",
              "              style=\"display:none;\">\n",
              "        \n",
              "  <svg xmlns=\"http://www.w3.org/2000/svg\" height=\"24px\"viewBox=\"0 0 24 24\"\n",
              "       width=\"24px\">\n",
              "    <path d=\"M0 0h24v24H0V0z\" fill=\"none\"/>\n",
              "    <path d=\"M18.56 5.44l.94 2.06.94-2.06 2.06-.94-2.06-.94-.94-2.06-.94 2.06-2.06.94zm-11 1L8.5 8.5l.94-2.06 2.06-.94-2.06-.94L8.5 2.5l-.94 2.06-2.06.94zm10 10l.94 2.06.94-2.06 2.06-.94-2.06-.94-.94-2.06-.94 2.06-2.06.94z\"/><path d=\"M17.41 7.96l-1.37-1.37c-.4-.4-.92-.59-1.43-.59-.52 0-1.04.2-1.43.59L10.3 9.45l-7.72 7.72c-.78.78-.78 2.05 0 2.83L4 21.41c.39.39.9.59 1.41.59.51 0 1.02-.2 1.41-.59l7.78-7.78 2.81-2.81c.8-.78.8-2.07 0-2.86zM5.41 20L4 18.59l7.72-7.72 1.47 1.35L5.41 20z\"/>\n",
              "  </svg>\n",
              "      </button>\n",
              "      \n",
              "  <style>\n",
              "    .colab-df-container {\n",
              "      display:flex;\n",
              "      flex-wrap:wrap;\n",
              "      gap: 12px;\n",
              "    }\n",
              "\n",
              "    .colab-df-convert {\n",
              "      background-color: #E8F0FE;\n",
              "      border: none;\n",
              "      border-radius: 50%;\n",
              "      cursor: pointer;\n",
              "      display: none;\n",
              "      fill: #1967D2;\n",
              "      height: 32px;\n",
              "      padding: 0 0 0 0;\n",
              "      width: 32px;\n",
              "    }\n",
              "\n",
              "    .colab-df-convert:hover {\n",
              "      background-color: #E2EBFA;\n",
              "      box-shadow: 0px 1px 2px rgba(60, 64, 67, 0.3), 0px 1px 3px 1px rgba(60, 64, 67, 0.15);\n",
              "      fill: #174EA6;\n",
              "    }\n",
              "\n",
              "    [theme=dark] .colab-df-convert {\n",
              "      background-color: #3B4455;\n",
              "      fill: #D2E3FC;\n",
              "    }\n",
              "\n",
              "    [theme=dark] .colab-df-convert:hover {\n",
              "      background-color: #434B5C;\n",
              "      box-shadow: 0px 1px 3px 1px rgba(0, 0, 0, 0.15);\n",
              "      filter: drop-shadow(0px 1px 2px rgba(0, 0, 0, 0.3));\n",
              "      fill: #FFFFFF;\n",
              "    }\n",
              "  </style>\n",
              "\n",
              "      <script>\n",
              "        const buttonEl =\n",
              "          document.querySelector('#df-25664698-d225-4a0c-a311-bdc419e4598d button.colab-df-convert');\n",
              "        buttonEl.style.display =\n",
              "          google.colab.kernel.accessAllowed ? 'block' : 'none';\n",
              "\n",
              "        async function convertToInteractive(key) {\n",
              "          const element = document.querySelector('#df-25664698-d225-4a0c-a311-bdc419e4598d');\n",
              "          const dataTable =\n",
              "            await google.colab.kernel.invokeFunction('convertToInteractive',\n",
              "                                                     [key], {});\n",
              "          if (!dataTable) return;\n",
              "\n",
              "          const docLinkHtml = 'Like what you see? Visit the ' +\n",
              "            '<a target=\"_blank\" href=https://colab.research.google.com/notebooks/data_table.ipynb>data table notebook</a>'\n",
              "            + ' to learn more about interactive tables.';\n",
              "          element.innerHTML = '';\n",
              "          dataTable['output_type'] = 'display_data';\n",
              "          await google.colab.output.renderOutput(dataTable, element);\n",
              "          const docLink = document.createElement('div');\n",
              "          docLink.innerHTML = docLinkHtml;\n",
              "          element.appendChild(docLink);\n",
              "        }\n",
              "      </script>\n",
              "    </div>\n",
              "  </div>\n",
              "  "
            ]
          },
          "metadata": {},
          "execution_count": 125
        }
      ]
    },
    {
      "cell_type": "code",
      "source": [
        "# 2015\n",
        "max_temperatures_2015 = []\n",
        "min_temperatures_2015 = []\n",
        "dates_2015 = []\n",
        "#dates = []\n",
        "for group, frame in df2015.groupby(['Date', 'Element']):\n",
        "\n",
        "  if group[1] == 'TMAX':\n",
        "    max = np.max(frame['Data_Value'])\n",
        "    max_temperatures_2015.append(max)\n",
        "    dates_2015.append(group[0])\n",
        "    # date_time_str = '18/09/19 01:55:19'\n",
        "\n",
        "    # date_time_obj = datetime.strptime(date_time_str, '%d/%m/%y %H:%M:%S')\n",
        "\n",
        "\n",
        "  else:\n",
        "    min = np.min(frame['Data_Value'])\n",
        "    #print(group[0] + ' ' + group[1] + ' ' + str(min))\n",
        "    min_temperatures_2015.append(min)\n",
        "\n",
        "print(min_temperatures_2015)\n",
        "# print(min_temperatures[0])\n",
        "# print(max_temperatures[1])\n",
        "# print(min_temperatures[1])\n",
        "print(dates_2015)"
      ],
      "metadata": {
        "colab": {
          "base_uri": "https://localhost:8080/"
        },
        "id": "Znu6tUFoUSLZ",
        "outputId": "1726fda7-6354-4174-8372-55652e67da8b"
      },
      "execution_count": 126,
      "outputs": [
        {
          "output_type": "stream",
          "name": "stdout",
          "text": [
            "[-133, -122, -67, -88, -155, -182, -182, -211, -206, -206, -200, -117, -216, -244, -200, -167, -117, -100, -17, -33, -61, -67, -100, -61, -88, -150, -161, -172, -167, -143, -156, -122, -193, -238, -211, -277, -250, -122, -56, -116, -171, -150, -211, -266, -239, -260, -294, -272, -217, -260, -343, -322, -160, -267, -272, -217, -216, -288, -272, -244, -144, -122, -122, -221, -255, -222, -106, -89, -67, -38, -67, -50, -33, -22, -67, -55, -78, -67, -50, -22, -72, -94, -111, -111, -28, -117, -122, -111, -122, -67, -43, -33, -5, -56, -56, -22, -17, 11, 17, 17, -16, -21, -6, 6, -10, 0, 44, 44, 44, 33, 22, 0, -43, -71, -50, -22, -21, -32, -11, 22, 44, 44, 44, 72, 83, 83, 83, 89, 106, 139, 133, 83, 28, 6, 22, 83, 133, 128, 28, 0, 33, 11, 0, 44, 100, 89, 144, 83, 117, 100, 78, 50, 33, 44, 56, 83, 100, 56, 83, 128, 139, 139, 139, 122, 133, 172, 167, 139, 139, 133, 106, 106, 133, 117, 100, 111, 117, 111, 106, 117, 122, 117, 94, 72, 78, 106, 100, 122, 111, 122, 100, 106, 144, 100, 144, 111, 83, 100, 172, 156, 122, 117, 106, 111, 128, 133, 167, 128, 139, 128, 133, 139, 133, 122, 89, 83, 83, 111, 100, 100, 133, 167, 150, 122, 111, 128, 150, 144, 161, 167, 172, 139, 94, 100, 100, 89, 106, 106, 72, 56, 78, 72, 144, 139, 156, 172, 161, 167, 150, 156, 178, 111, 72, 83, 44, 33, 17, 56, 67, 78, 106, 94, 39, 56, 17, 56, 56, 78, 111, 106, 117, 111, 61, 44, 50, 44, 61, 94, 94, 67, 50, 28, 0, 28, 28, 72, -10, -16, -10, -55, -55, -61, -39, -28, 11, 17, 22, 28, -10, -11, 22, 6, -61, 6, 6, -10, 11, 33, 39, 78, -5, -55, -61, -44, -33, -17, 0, -28, -22, -32, -22, 28, 22, -17, -33, -116, -111, -110, -94, -89, 6, -39, -93, -89, -28, -61, -78, -43, -50, -56, -67, -67, -33, -44, 0, 28, 67, 61, 39, 6, -11, -50, -67, -94, -83, 6, 0, 0, -32, -39, -6, -39, -39, -22, -56]\n",
            "['2015-01-01', '2015-01-02', '2015-01-03', '2015-01-04', '2015-01-05', '2015-01-06', '2015-01-07', '2015-01-08', '2015-01-09', '2015-01-10', '2015-01-11', '2015-01-12', '2015-01-13', '2015-01-14', '2015-01-15', '2015-01-16', '2015-01-17', '2015-01-18', '2015-01-19', '2015-01-20', '2015-01-21', '2015-01-22', '2015-01-23', '2015-01-24', '2015-01-25', '2015-01-26', '2015-01-27', '2015-01-28', '2015-01-29', '2015-01-30', '2015-01-31', '2015-02-01', '2015-02-02', '2015-02-03', '2015-02-04', '2015-02-05', '2015-02-06', '2015-02-07', '2015-02-08', '2015-02-09', '2015-02-10', '2015-02-11', '2015-02-12', '2015-02-13', '2015-02-14', '2015-02-15', '2015-02-16', '2015-02-17', '2015-02-18', '2015-02-19', '2015-02-20', '2015-02-21', '2015-02-22', '2015-02-23', '2015-02-24', '2015-02-25', '2015-02-26', '2015-02-27', '2015-02-28', '2015-03-01', '2015-03-02', '2015-03-03', '2015-03-04', '2015-03-05', '2015-03-06', '2015-03-07', '2015-03-08', '2015-03-09', '2015-03-10', '2015-03-11', '2015-03-12', '2015-03-13', '2015-03-14', '2015-03-15', '2015-03-16', '2015-03-17', '2015-03-18', '2015-03-19', '2015-03-20', '2015-03-21', '2015-03-22', '2015-03-23', '2015-03-24', '2015-03-25', '2015-03-26', '2015-03-27', '2015-03-28', '2015-03-29', '2015-03-30', '2015-03-31', '2015-04-01', '2015-04-02', '2015-04-03', '2015-04-04', '2015-04-05', '2015-04-06', '2015-04-07', '2015-04-08', '2015-04-09', '2015-04-10', '2015-04-11', '2015-04-12', '2015-04-13', '2015-04-14', '2015-04-15', '2015-04-16', '2015-04-17', '2015-04-18', '2015-04-19', '2015-04-20', '2015-04-21', '2015-04-22', '2015-04-23', '2015-04-24', '2015-04-25', '2015-04-26', '2015-04-27', '2015-04-28', '2015-04-29', '2015-04-30', '2015-05-01', '2015-05-02', '2015-05-03', '2015-05-04', '2015-05-05', '2015-05-06', '2015-05-07', '2015-05-08', '2015-05-09', '2015-05-10', '2015-05-11', '2015-05-12', '2015-05-13', '2015-05-14', '2015-05-15', '2015-05-16', '2015-05-17', '2015-05-18', '2015-05-19', '2015-05-20', '2015-05-21', '2015-05-22', '2015-05-23', '2015-05-24', '2015-05-25', '2015-05-26', '2015-05-27', '2015-05-28', '2015-05-29', '2015-05-30', '2015-05-31', '2015-06-01', '2015-06-02', '2015-06-03', '2015-06-04', '2015-06-05', '2015-06-06', '2015-06-07', '2015-06-08', '2015-06-09', '2015-06-10', '2015-06-11', '2015-06-12', '2015-06-13', '2015-06-14', '2015-06-15', '2015-06-16', '2015-06-17', '2015-06-18', '2015-06-19', '2015-06-20', '2015-06-21', '2015-06-22', '2015-06-23', '2015-06-24', '2015-06-25', '2015-06-26', '2015-06-27', '2015-06-28', '2015-06-29', '2015-06-30', '2015-07-01', '2015-07-02', '2015-07-03', '2015-07-04', '2015-07-05', '2015-07-06', '2015-07-07', '2015-07-08', '2015-07-09', '2015-07-10', '2015-07-11', '2015-07-12', '2015-07-13', '2015-07-14', '2015-07-15', '2015-07-16', '2015-07-17', '2015-07-18', '2015-07-19', '2015-07-20', '2015-07-21', '2015-07-22', '2015-07-23', '2015-07-24', '2015-07-25', '2015-07-26', '2015-07-27', '2015-07-28', '2015-07-29', '2015-07-30', '2015-07-31', '2015-08-01', '2015-08-02', '2015-08-03', '2015-08-04', '2015-08-05', '2015-08-06', '2015-08-07', '2015-08-08', '2015-08-09', '2015-08-10', '2015-08-11', '2015-08-12', '2015-08-13', '2015-08-14', '2015-08-15', '2015-08-16', '2015-08-17', '2015-08-18', '2015-08-19', '2015-08-20', '2015-08-21', '2015-08-22', '2015-08-23', '2015-08-24', '2015-08-25', '2015-08-26', '2015-08-27', '2015-08-28', '2015-08-29', '2015-08-30', '2015-08-31', '2015-09-01', '2015-09-02', '2015-09-03', '2015-09-04', '2015-09-05', '2015-09-06', '2015-09-07', '2015-09-08', '2015-09-09', '2015-09-10', '2015-09-11', '2015-09-12', '2015-09-13', '2015-09-14', '2015-09-15', '2015-09-16', '2015-09-17', '2015-09-18', '2015-09-19', '2015-09-20', '2015-09-21', '2015-09-22', '2015-09-23', '2015-09-24', '2015-09-25', '2015-09-26', '2015-09-27', '2015-09-28', '2015-09-29', '2015-09-30', '2015-10-01', '2015-10-02', '2015-10-03', '2015-10-04', '2015-10-05', '2015-10-06', '2015-10-07', '2015-10-08', '2015-10-09', '2015-10-10', '2015-10-11', '2015-10-12', '2015-10-13', '2015-10-14', '2015-10-15', '2015-10-16', '2015-10-17', '2015-10-18', '2015-10-19', '2015-10-20', '2015-10-21', '2015-10-22', '2015-10-23', '2015-10-24', '2015-10-25', '2015-10-26', '2015-10-27', '2015-10-28', '2015-10-29', '2015-10-30', '2015-10-31', '2015-11-01', '2015-11-02', '2015-11-03', '2015-11-04', '2015-11-05', '2015-11-06', '2015-11-07', '2015-11-08', '2015-11-09', '2015-11-10', '2015-11-11', '2015-11-12', '2015-11-13', '2015-11-14', '2015-11-15', '2015-11-16', '2015-11-17', '2015-11-18', '2015-11-19', '2015-11-20', '2015-11-21', '2015-11-22', '2015-11-23', '2015-11-24', '2015-11-25', '2015-11-26', '2015-11-27', '2015-11-28', '2015-11-29', '2015-11-30', '2015-12-01', '2015-12-02', '2015-12-03', '2015-12-04', '2015-12-05', '2015-12-06', '2015-12-07', '2015-12-08', '2015-12-09', '2015-12-10', '2015-12-11', '2015-12-12', '2015-12-13', '2015-12-14', '2015-12-15', '2015-12-16', '2015-12-17', '2015-12-18', '2015-12-19', '2015-12-20', '2015-12-21', '2015-12-22', '2015-12-23', '2015-12-24', '2015-12-25', '2015-12-26', '2015-12-27', '2015-12-28', '2015-12-29', '2015-12-30', '2015-12-31']\n"
          ]
        }
      ]
    },
    {
      "cell_type": "code",
      "source": [
        "temp = pd.DatetimeIndex(df['Date'])\n",
        "df['Year'], df['Month'], df['Day']=temp.year, temp.month, temp.day\n",
        "df.head()"
      ],
      "metadata": {
        "colab": {
          "base_uri": "https://localhost:8080/",
          "height": 204
        },
        "id": "gWXj3rdVMptU",
        "outputId": "52c472fe-7ff8-44ee-d166-75cacdc3bd7f"
      },
      "execution_count": 127,
      "outputs": [
        {
          "output_type": "execute_result",
          "data": {
            "text/plain": [
              "            ID        Date Element  Data_Value  Year  Month  Day\n",
              "0  USW00094889  2014-11-12    TMAX          22  2014     11   12\n",
              "1  USC00208972  2009-04-29    TMIN          56  2009      4   29\n",
              "2  USC00200032  2008-05-26    TMAX         278  2008      5   26\n",
              "3  USC00205563  2005-11-11    TMAX         139  2005     11   11\n",
              "4  USC00200230  2014-02-27    TMAX        -106  2014      2   27"
            ],
            "text/html": [
              "\n",
              "  <div id=\"df-fdc0b9d0-2c44-4dca-89f5-55fc8f7d02f7\">\n",
              "    <div class=\"colab-df-container\">\n",
              "      <div>\n",
              "<style scoped>\n",
              "    .dataframe tbody tr th:only-of-type {\n",
              "        vertical-align: middle;\n",
              "    }\n",
              "\n",
              "    .dataframe tbody tr th {\n",
              "        vertical-align: top;\n",
              "    }\n",
              "\n",
              "    .dataframe thead th {\n",
              "        text-align: right;\n",
              "    }\n",
              "</style>\n",
              "<table border=\"1\" class=\"dataframe\">\n",
              "  <thead>\n",
              "    <tr style=\"text-align: right;\">\n",
              "      <th></th>\n",
              "      <th>ID</th>\n",
              "      <th>Date</th>\n",
              "      <th>Element</th>\n",
              "      <th>Data_Value</th>\n",
              "      <th>Year</th>\n",
              "      <th>Month</th>\n",
              "      <th>Day</th>\n",
              "    </tr>\n",
              "  </thead>\n",
              "  <tbody>\n",
              "    <tr>\n",
              "      <th>0</th>\n",
              "      <td>USW00094889</td>\n",
              "      <td>2014-11-12</td>\n",
              "      <td>TMAX</td>\n",
              "      <td>22</td>\n",
              "      <td>2014</td>\n",
              "      <td>11</td>\n",
              "      <td>12</td>\n",
              "    </tr>\n",
              "    <tr>\n",
              "      <th>1</th>\n",
              "      <td>USC00208972</td>\n",
              "      <td>2009-04-29</td>\n",
              "      <td>TMIN</td>\n",
              "      <td>56</td>\n",
              "      <td>2009</td>\n",
              "      <td>4</td>\n",
              "      <td>29</td>\n",
              "    </tr>\n",
              "    <tr>\n",
              "      <th>2</th>\n",
              "      <td>USC00200032</td>\n",
              "      <td>2008-05-26</td>\n",
              "      <td>TMAX</td>\n",
              "      <td>278</td>\n",
              "      <td>2008</td>\n",
              "      <td>5</td>\n",
              "      <td>26</td>\n",
              "    </tr>\n",
              "    <tr>\n",
              "      <th>3</th>\n",
              "      <td>USC00205563</td>\n",
              "      <td>2005-11-11</td>\n",
              "      <td>TMAX</td>\n",
              "      <td>139</td>\n",
              "      <td>2005</td>\n",
              "      <td>11</td>\n",
              "      <td>11</td>\n",
              "    </tr>\n",
              "    <tr>\n",
              "      <th>4</th>\n",
              "      <td>USC00200230</td>\n",
              "      <td>2014-02-27</td>\n",
              "      <td>TMAX</td>\n",
              "      <td>-106</td>\n",
              "      <td>2014</td>\n",
              "      <td>2</td>\n",
              "      <td>27</td>\n",
              "    </tr>\n",
              "  </tbody>\n",
              "</table>\n",
              "</div>\n",
              "      <button class=\"colab-df-convert\" onclick=\"convertToInteractive('df-fdc0b9d0-2c44-4dca-89f5-55fc8f7d02f7')\"\n",
              "              title=\"Convert this dataframe to an interactive table.\"\n",
              "              style=\"display:none;\">\n",
              "        \n",
              "  <svg xmlns=\"http://www.w3.org/2000/svg\" height=\"24px\"viewBox=\"0 0 24 24\"\n",
              "       width=\"24px\">\n",
              "    <path d=\"M0 0h24v24H0V0z\" fill=\"none\"/>\n",
              "    <path d=\"M18.56 5.44l.94 2.06.94-2.06 2.06-.94-2.06-.94-.94-2.06-.94 2.06-2.06.94zm-11 1L8.5 8.5l.94-2.06 2.06-.94-2.06-.94L8.5 2.5l-.94 2.06-2.06.94zm10 10l.94 2.06.94-2.06 2.06-.94-2.06-.94-.94-2.06-.94 2.06-2.06.94z\"/><path d=\"M17.41 7.96l-1.37-1.37c-.4-.4-.92-.59-1.43-.59-.52 0-1.04.2-1.43.59L10.3 9.45l-7.72 7.72c-.78.78-.78 2.05 0 2.83L4 21.41c.39.39.9.59 1.41.59.51 0 1.02-.2 1.41-.59l7.78-7.78 2.81-2.81c.8-.78.8-2.07 0-2.86zM5.41 20L4 18.59l7.72-7.72 1.47 1.35L5.41 20z\"/>\n",
              "  </svg>\n",
              "      </button>\n",
              "      \n",
              "  <style>\n",
              "    .colab-df-container {\n",
              "      display:flex;\n",
              "      flex-wrap:wrap;\n",
              "      gap: 12px;\n",
              "    }\n",
              "\n",
              "    .colab-df-convert {\n",
              "      background-color: #E8F0FE;\n",
              "      border: none;\n",
              "      border-radius: 50%;\n",
              "      cursor: pointer;\n",
              "      display: none;\n",
              "      fill: #1967D2;\n",
              "      height: 32px;\n",
              "      padding: 0 0 0 0;\n",
              "      width: 32px;\n",
              "    }\n",
              "\n",
              "    .colab-df-convert:hover {\n",
              "      background-color: #E2EBFA;\n",
              "      box-shadow: 0px 1px 2px rgba(60, 64, 67, 0.3), 0px 1px 3px 1px rgba(60, 64, 67, 0.15);\n",
              "      fill: #174EA6;\n",
              "    }\n",
              "\n",
              "    [theme=dark] .colab-df-convert {\n",
              "      background-color: #3B4455;\n",
              "      fill: #D2E3FC;\n",
              "    }\n",
              "\n",
              "    [theme=dark] .colab-df-convert:hover {\n",
              "      background-color: #434B5C;\n",
              "      box-shadow: 0px 1px 3px 1px rgba(0, 0, 0, 0.15);\n",
              "      filter: drop-shadow(0px 1px 2px rgba(0, 0, 0, 0.3));\n",
              "      fill: #FFFFFF;\n",
              "    }\n",
              "  </style>\n",
              "\n",
              "      <script>\n",
              "        const buttonEl =\n",
              "          document.querySelector('#df-fdc0b9d0-2c44-4dca-89f5-55fc8f7d02f7 button.colab-df-convert');\n",
              "        buttonEl.style.display =\n",
              "          google.colab.kernel.accessAllowed ? 'block' : 'none';\n",
              "\n",
              "        async function convertToInteractive(key) {\n",
              "          const element = document.querySelector('#df-fdc0b9d0-2c44-4dca-89f5-55fc8f7d02f7');\n",
              "          const dataTable =\n",
              "            await google.colab.kernel.invokeFunction('convertToInteractive',\n",
              "                                                     [key], {});\n",
              "          if (!dataTable) return;\n",
              "\n",
              "          const docLinkHtml = 'Like what you see? Visit the ' +\n",
              "            '<a target=\"_blank\" href=https://colab.research.google.com/notebooks/data_table.ipynb>data table notebook</a>'\n",
              "            + ' to learn more about interactive tables.';\n",
              "          element.innerHTML = '';\n",
              "          dataTable['output_type'] = 'display_data';\n",
              "          await google.colab.output.renderOutput(dataTable, element);\n",
              "          const docLink = document.createElement('div');\n",
              "          docLink.innerHTML = docLinkHtml;\n",
              "          element.appendChild(docLink);\n",
              "        }\n",
              "      </script>\n",
              "    </div>\n",
              "  </div>\n",
              "  "
            ]
          },
          "metadata": {},
          "execution_count": 127
        }
      ]
    },
    {
      "cell_type": "code",
      "source": [
        "max_temperatures = []\n",
        "min_temperatures = []\n",
        "dates = []\n",
        "for group, frame in df.groupby([\"Month\", 'Day', 'Element']):\n",
        "  date1 =  str(group[0]) + '/' +str(group[1] )\n",
        "\n",
        " \n",
        "  if group[2] == 'TMAX':\n",
        "    max = np.max(frame['Data_Value'])\n",
        "    max_temperatures.append(max)\n",
        "    dates.append(date1)\n",
        "\n",
        "    #print(group)\n",
        "  else:\n",
        "    min = np.min(frame['Data_Value'])\n",
        "    #print(group[0] + ' ' + group[1] + ' ' + str(min))\n",
        "    min_temperatures.append(min)\n",
        "\n",
        "# print(max_temperatures)\n",
        "# print(min_temperatures[0])\n",
        "# print(max_temperatures[1])\n",
        "# print(min_temperatures[1])\n",
        "print(dates)\n",
        "\n",
        "\n",
        "index_pos = dates.index('2/29')# February 29\n",
        "print(index_pos)\n",
        "del dates[59]\n",
        "del max_temperatures[59]\n",
        "del min_temperatures[59]\n",
        "print(len(dates))\n"
      ],
      "metadata": {
        "colab": {
          "base_uri": "https://localhost:8080/"
        },
        "id": "m4paXUlhPKLd",
        "outputId": "3914a3a6-123f-4f38-f69f-310d9cbbabe0"
      },
      "execution_count": 159,
      "outputs": [
        {
          "output_type": "stream",
          "name": "stdout",
          "text": [
            "['1/1', '1/2', '1/3', '1/4', '1/5', '1/6', '1/7', '1/8', '1/9', '1/10', '1/11', '1/12', '1/13', '1/14', '1/15', '1/16', '1/17', '1/18', '1/19', '1/20', '1/21', '1/22', '1/23', '1/24', '1/25', '1/26', '1/27', '1/28', '1/29', '1/30', '1/31', '2/1', '2/2', '2/3', '2/4', '2/5', '2/6', '2/7', '2/8', '2/9', '2/10', '2/11', '2/12', '2/13', '2/14', '2/15', '2/16', '2/17', '2/18', '2/19', '2/20', '2/21', '2/22', '2/23', '2/24', '2/25', '2/26', '2/27', '2/28', '2/29', '3/1', '3/2', '3/3', '3/4', '3/5', '3/6', '3/7', '3/8', '3/9', '3/10', '3/11', '3/12', '3/13', '3/14', '3/15', '3/16', '3/17', '3/18', '3/19', '3/20', '3/21', '3/22', '3/23', '3/24', '3/25', '3/26', '3/27', '3/28', '3/29', '3/30', '3/31', '4/1', '4/2', '4/3', '4/4', '4/5', '4/6', '4/7', '4/8', '4/9', '4/10', '4/11', '4/12', '4/13', '4/14', '4/15', '4/16', '4/17', '4/18', '4/19', '4/20', '4/21', '4/22', '4/23', '4/24', '4/25', '4/26', '4/27', '4/28', '4/29', '4/30', '5/1', '5/2', '5/3', '5/4', '5/5', '5/6', '5/7', '5/8', '5/9', '5/10', '5/11', '5/12', '5/13', '5/14', '5/15', '5/16', '5/17', '5/18', '5/19', '5/20', '5/21', '5/22', '5/23', '5/24', '5/25', '5/26', '5/27', '5/28', '5/29', '5/30', '5/31', '6/1', '6/2', '6/3', '6/4', '6/5', '6/6', '6/7', '6/8', '6/9', '6/10', '6/11', '6/12', '6/13', '6/14', '6/15', '6/16', '6/17', '6/18', '6/19', '6/20', '6/21', '6/22', '6/23', '6/24', '6/25', '6/26', '6/27', '6/28', '6/29', '6/30', '7/1', '7/2', '7/3', '7/4', '7/5', '7/6', '7/7', '7/8', '7/9', '7/10', '7/11', '7/12', '7/13', '7/14', '7/15', '7/16', '7/17', '7/18', '7/19', '7/20', '7/21', '7/22', '7/23', '7/24', '7/25', '7/26', '7/27', '7/28', '7/29', '7/30', '7/31', '8/1', '8/2', '8/3', '8/4', '8/5', '8/6', '8/7', '8/8', '8/9', '8/10', '8/11', '8/12', '8/13', '8/14', '8/15', '8/16', '8/17', '8/18', '8/19', '8/20', '8/21', '8/22', '8/23', '8/24', '8/25', '8/26', '8/27', '8/28', '8/29', '8/30', '8/31', '9/1', '9/2', '9/3', '9/4', '9/5', '9/6', '9/7', '9/8', '9/9', '9/10', '9/11', '9/12', '9/13', '9/14', '9/15', '9/16', '9/17', '9/18', '9/19', '9/20', '9/21', '9/22', '9/23', '9/24', '9/25', '9/26', '9/27', '9/28', '9/29', '9/30', '10/1', '10/2', '10/3', '10/4', '10/5', '10/6', '10/7', '10/8', '10/9', '10/10', '10/11', '10/12', '10/13', '10/14', '10/15', '10/16', '10/17', '10/18', '10/19', '10/20', '10/21', '10/22', '10/23', '10/24', '10/25', '10/26', '10/27', '10/28', '10/29', '10/30', '10/31', '11/1', '11/2', '11/3', '11/4', '11/5', '11/6', '11/7', '11/8', '11/9', '11/10', '11/11', '11/12', '11/13', '11/14', '11/15', '11/16', '11/17', '11/18', '11/19', '11/20', '11/21', '11/22', '11/23', '11/24', '11/25', '11/26', '11/27', '11/28', '11/29', '11/30', '12/1', '12/2', '12/3', '12/4', '12/5', '12/6', '12/7', '12/8', '12/9', '12/10', '12/11', '12/12', '12/13', '12/14', '12/15', '12/16', '12/17', '12/18', '12/19', '12/20', '12/21', '12/22', '12/23', '12/24', '12/25', '12/26', '12/27', '12/28', '12/29', '12/30', '12/31']\n",
            "59\n",
            "365\n"
          ]
        }
      ]
    },
    {
      "cell_type": "code",
      "source": [
        "print(len(min_temperatures))\n",
        "print(len(max_temperatures))\n",
        "print(len(min_temperatures_2015))\n",
        "print(len(max_temperatures_2015))"
      ],
      "metadata": {
        "colab": {
          "base_uri": "https://localhost:8080/"
        },
        "id": "8Y3eMFsBZo7v",
        "outputId": "a4e3a114-6b64-421c-a3c3-203247e2a297"
      },
      "execution_count": 143,
      "outputs": [
        {
          "output_type": "stream",
          "name": "stdout",
          "text": [
            "365\n",
            "365\n",
            "365\n",
            "365\n"
          ]
        }
      ]
    },
    {
      "cell_type": "code",
      "source": [
        "# Transform dates\n",
        "from datetime import datetime\n",
        "import matplotlib\n",
        "\n",
        "transformed_dates = []\n",
        "for date in dates:\n",
        "  transformed_date = '2015' + '/' + date \n",
        "  transformed_date = datetime.strptime(transformed_date, '%Y/%m/%d')\n",
        "  transformed_date = matplotlib.dates.date2num(transformed_date)\n",
        "  #transformed_date = matplotlib.dates.DateFormatter('%Y/%m/%d')\n",
        "  transformed_dates.append(transformed_date)\n",
        "\n",
        "\n"
      ],
      "metadata": {
        "id": "v4HWqf_HhsAP"
      },
      "execution_count": 173,
      "outputs": []
    },
    {
      "cell_type": "code",
      "source": [
        "record_min_temp = []\n",
        "record_min_date = []\n",
        "record_max_temp = []\n",
        "record_max_date = []\n",
        "for i in range(len(min_temperatures)):\n",
        "  if min_temperatures_2015[i] < min_temperatures[i]:\n",
        "    record_min_temp.append(min_temperatures_2015[i])\n",
        "    record_min_date.append(transformed_dates[i])\n",
        "    \n",
        "  if max_temperatures_2015[i] > max_temperatures[i]:\n",
        "    record_max_temp.append(max_temperatures_2015[i])\n",
        "    record_max_date.append(transformed_dates[i])\n",
        "\n",
        "\n",
        "print(record_min_date)\n"
      ],
      "metadata": {
        "colab": {
          "base_uri": "https://localhost:8080/"
        },
        "id": "hvPulaouZPzU",
        "outputId": "2ec29daf-2532-4de4-ea01-48c3aad1eb7c"
      },
      "execution_count": 174,
      "outputs": [
        {
          "output_type": "stream",
          "name": "stdout",
          "text": [
            "[735603.0, 735609.0, 735632.0, 735643.0, 735644.0, 735645.0, 735646.0, 735648.0, 735649.0, 735650.0, 735652.0, 735653.0, 735654.0, 735655.0, 735656.0, 735657.0, 735662.0, 735663.0, 735664.0, 735685.0, 735686.0, 735687.0, 735712.0, 735713.0, 735738.0, 735782.0, 735838.0, 735888.0, 735889.0, 735890.0, 735891.0, 735912.0]\n"
          ]
        }
      ]
    },
    {
      "cell_type": "code",
      "source": [
        "import matplotlib.pyplot as plt\n",
        "plt.figure()\n",
        "from textwrap import wrap\n",
        "\n",
        "from matplotlib.pyplot import figure\n",
        "figure(figsize=(8, 6), dpi=80)\n",
        "\n",
        "\n",
        "plt.plot(transformed_dates, np.array(max_temperatures)/10, label=\"Record high temperature (2005-2014)\", zorder=1, c='r')\n",
        "plt.plot(transformed_dates, np.array(min_temperatures)/10, label=\"Record low temperature (2005-2014)\",zorder=1)\n",
        "\n",
        "plt.gca().fill_between(transformed_dates, np.array(min_temperatures)/10, np.array(max_temperatures)/10, facecolor='gray', alpha=0.1)\n",
        "\n",
        "plt.title(\" Daily highest and lowest temperatures in Ann Arbor (United States) from 2005 to 2014\")\n",
        "title = \" Daily highest and lowest temperatures in Ann Arbor area (United States) from 2005 to 2014\"\n",
        "plt.title('\\n'.join(wrap(title,60)), fontsize=14)\n",
        "plt.ylabel('Temperature in Celsius')\n",
        "\n",
        "\n",
        "plt.scatter(record_min_date , np.array(record_min_temp)/10, zorder=2,  c='b', label='Record low broken in 2015', edgecolors='black')\n",
        "plt.scatter(record_max_date , np.array(record_max_temp)/10, zorder=2, c='r', label='Record high broken in 2015', edgecolors='black')\n",
        "\n",
        "\n",
        "# months = ['Jan', 'Feb', 'Mar', 'Apr', 'May', 'Jun', 'Jul', 'Aug', 'Sep', 'Oct', 'Nov', 'Dec']\n",
        "# plt.xticks(np.linspace(0,365,12), months)\n",
        "\n",
        "import matplotlib.dates as mdates\n",
        "fmt = mdates.DateFormatter('%b')\n",
        "X = plt.gca().xaxis\n",
        "locator = mdates.MonthLocator()  # every month\n",
        "X.set_major_locator(locator)\n",
        "# Specify formatter\n",
        "\n",
        "X.set_major_formatter(fmt)\n",
        "\n",
        "plt.legend()\n",
        "\n",
        "fig1 = plt.gcf()\n",
        "plt.show()\n",
        "fig1.savefig('lol.png')\n"
      ],
      "metadata": {
        "colab": {
          "base_uri": "https://localhost:8080/",
          "height": 466
        },
        "id": "GjDWOWZTRWgW",
        "outputId": "f5a3be62-2421-4b13-c704-b2c6f5f50dbb"
      },
      "execution_count": 225,
      "outputs": [
        {
          "output_type": "display_data",
          "data": {
            "text/plain": [
              "<Figure size 432x288 with 0 Axes>"
            ]
          },
          "metadata": {}
        },
        {
          "output_type": "display_data",
          "data": {
            "text/plain": [
              "<Figure size 640x480 with 1 Axes>"
            ],
            "image/png": "[encoded data removed]"
          },
          "metadata": {
            "needs_background": "light"
          }
        }
      ]
    },
    {
      "cell_type": "code",
      "source": [
        ""
      ],
      "metadata": {
        "colab": {
          "base_uri": "https://localhost:8080/"
        },
        "id": "tr4TRdrTjdul",
        "outputId": "98a0c45f-cb5d-4257-94f4-209ab3538c45"
      },
      "execution_count": 165,
      "outputs": [
        {
          "output_type": "stream",
          "name": "stdout",
          "text": [
            "[datetime.datetime(2015, 1, 5, 0, 0), datetime.datetime(2015, 1, 11, 0, 0), datetime.datetime(2015, 2, 3, 0, 0), datetime.datetime(2015, 2, 14, 0, 0), datetime.datetime(2015, 2, 15, 0, 0), datetime.datetime(2015, 2, 16, 0, 0), datetime.datetime(2015, 2, 17, 0, 0), datetime.datetime(2015, 2, 19, 0, 0), datetime.datetime(2015, 2, 20, 0, 0), datetime.datetime(2015, 2, 21, 0, 0), datetime.datetime(2015, 2, 23, 0, 0), datetime.datetime(2015, 2, 24, 0, 0), datetime.datetime(2015, 2, 25, 0, 0), datetime.datetime(2015, 2, 26, 0, 0), datetime.datetime(2015, 2, 27, 0, 0), datetime.datetime(2015, 2, 28, 0, 0), datetime.datetime(2015, 3, 5, 0, 0), datetime.datetime(2015, 3, 6, 0, 0), datetime.datetime(2015, 3, 7, 0, 0), datetime.datetime(2015, 3, 28, 0, 0), datetime.datetime(2015, 3, 29, 0, 0), datetime.datetime(2015, 3, 30, 0, 0), datetime.datetime(2015, 4, 24, 0, 0), datetime.datetime(2015, 4, 25, 0, 0), datetime.datetime(2015, 5, 20, 0, 0), datetime.datetime(2015, 7, 3, 0, 0), datetime.datetime(2015, 8, 28, 0, 0), datetime.datetime(2015, 10, 17, 0, 0), datetime.datetime(2015, 10, 18, 0, 0), datetime.datetime(2015, 10, 19, 0, 0), datetime.datetime(2015, 10, 20, 0, 0), datetime.datetime(2015, 11, 10, 0, 0)]\n"
          ]
        }
      ]
    }
  ]
}